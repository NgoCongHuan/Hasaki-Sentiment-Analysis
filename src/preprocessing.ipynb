{
 "cells": [
  {
   "cell_type": "markdown",
   "metadata": {},
   "source": [
    "# Products"
   ]
  },
  {
   "cell_type": "code",
   "execution_count": 2,
   "metadata": {},
   "outputs": [],
   "source": [
    "import pandas as pd\n",
    "import numpy as np"
   ]
  },
  {
   "cell_type": "code",
   "execution_count": 102,
   "metadata": {},
   "outputs": [
    {
     "data": {
      "text/html": [
       "<div>\n",
       "<style scoped>\n",
       "    .dataframe tbody tr th:only-of-type {\n",
       "        vertical-align: middle;\n",
       "    }\n",
       "\n",
       "    .dataframe tbody tr th {\n",
       "        vertical-align: top;\n",
       "    }\n",
       "\n",
       "    .dataframe thead th {\n",
       "        text-align: right;\n",
       "    }\n",
       "</style>\n",
       "<table border=\"1\" class=\"dataframe\">\n",
       "  <thead>\n",
       "    <tr style=\"text-align: right;\">\n",
       "      <th></th>\n",
       "      <th>Liên kết</th>\n",
       "      <th>Ảnh sản phẩm</th>\n",
       "      <th>Mã sản phẩm</th>\n",
       "      <th>Tên sản phẩm</th>\n",
       "      <th>Mã danh mục</th>\n",
       "      <th>Số sản phẩm đã bán</th>\n",
       "      <th>Giá</th>\n",
       "      <th>Giá thị trường</th>\n",
       "      <th>Tiết kiệm</th>\n",
       "      <th>Phần trăm giảm</th>\n",
       "      <th>...</th>\n",
       "      <th>Barcode</th>\n",
       "      <th>Thương Hiệu</th>\n",
       "      <th>Xuất xứ thương hiệu</th>\n",
       "      <th>Nơi sản xuất</th>\n",
       "      <th>Đặc Tính</th>\n",
       "      <th>Giới tính</th>\n",
       "      <th>Thành phần sản phẩm</th>\n",
       "      <th>Hướng dẫn sử dụng</th>\n",
       "      <th>Loại da</th>\n",
       "      <th>Vấn đề về da</th>\n",
       "    </tr>\n",
       "  </thead>\n",
       "  <tbody>\n",
       "    <tr>\n",
       "      <th>0</th>\n",
       "      <td>https://hasaki.vn/san-pham/dung-dich-ve-sinh-p...</td>\n",
       "      <td>https://media.hcdn.vn/catalog/product/f/a/face...</td>\n",
       "      <td>422205453</td>\n",
       "      <td>Dung Dịch Vệ Sinh Phụ Nữ Femfresh Cao Cấp Hằng...</td>\n",
       "      <td>1901</td>\n",
       "      <td>511.0</td>\n",
       "      <td>168.000 ₫</td>\n",
       "      <td>198.000 ₫</td>\n",
       "      <td>30.000 ₫</td>\n",
       "      <td>-15%</td>\n",
       "      <td>...</td>\n",
       "      <td>5010724525937.0</td>\n",
       "      <td>Femfresh</td>\n",
       "      <td>Anh</td>\n",
       "      <td>United Kingdom</td>\n",
       "      <td>Có Mùi Hương</td>\n",
       "      <td>Nữ</td>\n",
       "      <td>\\n1. Dung dịch vệ sinh phụ nữ Femfresh Daily I...</td>\n",
       "      <td>\\n\\n\\nLàm ướt vùng kín\\n\\n\\nLấy 1 lượng vừa đủ...</td>\n",
       "      <td>NaN</td>\n",
       "      <td>NaN</td>\n",
       "    </tr>\n",
       "    <tr>\n",
       "      <th>1</th>\n",
       "      <td>https://hasaki.vn/san-pham/dung-dich-ve-sinh-p...</td>\n",
       "      <td>https://media.hcdn.vn/catalog/product/p/r/prom...</td>\n",
       "      <td>301500006</td>\n",
       "      <td>Dung Dịch Vệ Sinh Phụ Nữ Lactacyd Ngăn Mùi 24H...</td>\n",
       "      <td>1901</td>\n",
       "      <td>876.0</td>\n",
       "      <td>72.000 ₫</td>\n",
       "      <td>89.000 ₫</td>\n",
       "      <td>17.000 ₫</td>\n",
       "      <td>-19%</td>\n",
       "      <td>...</td>\n",
       "      <td>8936123410254.0</td>\n",
       "      <td>Lactacyd</td>\n",
       "      <td>Pháp</td>\n",
       "      <td>Vietnam</td>\n",
       "      <td>Có Mùi Hương</td>\n",
       "      <td>Nữ</td>\n",
       "      <td>\\n1. Dung Dịch Vệ Sinh Phụ Nữ Lactacyd Feminin...</td>\n",
       "      <td>\\n\\n\\nLàm ướt vùng kín, dùng 1 lượng dung dịch...</td>\n",
       "      <td>NaN</td>\n",
       "      <td>NaN</td>\n",
       "    </tr>\n",
       "    <tr>\n",
       "      <th>2</th>\n",
       "      <td>https://hasaki.vn/san-pham/bang-ve-sinh-diana-...</td>\n",
       "      <td>https://media.hcdn.vn/catalog/product/p/r/prom...</td>\n",
       "      <td>422206864</td>\n",
       "      <td>Băng Quần Diana Ban Đêm Size M-L 5 Chiếc/Gói</td>\n",
       "      <td>1901</td>\n",
       "      <td>885.0</td>\n",
       "      <td>69.000 ₫</td>\n",
       "      <td>89.900 ₫</td>\n",
       "      <td>20.900 ₫</td>\n",
       "      <td>-23%</td>\n",
       "      <td>...</td>\n",
       "      <td>8934755010453.0</td>\n",
       "      <td>Diana</td>\n",
       "      <td>Nhật Bản</td>\n",
       "      <td>Vietnam</td>\n",
       "      <td>Ban Đêm</td>\n",
       "      <td>Nữ</td>\n",
       "      <td>\\nVải không dệt, hạt siêu thấm, bông cellulose...</td>\n",
       "      <td>\\n\\n\\nThao tác như mặc quần thông thường.\\n\\n\\...</td>\n",
       "      <td>NaN</td>\n",
       "      <td>NaN</td>\n",
       "    </tr>\n",
       "  </tbody>\n",
       "</table>\n",
       "<p>3 rows × 23 columns</p>\n",
       "</div>"
      ],
      "text/plain": [
       "                                            Liên kết  \\\n",
       "0  https://hasaki.vn/san-pham/dung-dich-ve-sinh-p...   \n",
       "1  https://hasaki.vn/san-pham/dung-dich-ve-sinh-p...   \n",
       "2  https://hasaki.vn/san-pham/bang-ve-sinh-diana-...   \n",
       "\n",
       "                                        Ảnh sản phẩm  Mã sản phẩm  \\\n",
       "0  https://media.hcdn.vn/catalog/product/f/a/face...    422205453   \n",
       "1  https://media.hcdn.vn/catalog/product/p/r/prom...    301500006   \n",
       "2  https://media.hcdn.vn/catalog/product/p/r/prom...    422206864   \n",
       "\n",
       "                                        Tên sản phẩm  Mã danh mục  \\\n",
       "0  Dung Dịch Vệ Sinh Phụ Nữ Femfresh Cao Cấp Hằng...         1901   \n",
       "1  Dung Dịch Vệ Sinh Phụ Nữ Lactacyd Ngăn Mùi 24H...         1901   \n",
       "2       Băng Quần Diana Ban Đêm Size M-L 5 Chiếc/Gói         1901   \n",
       "\n",
       "   Số sản phẩm đã bán        Giá Giá thị trường Tiết kiệm Phần trăm giảm  ...  \\\n",
       "0               511.0  168.000 ₫      198.000 ₫  30.000 ₫           -15%  ...   \n",
       "1               876.0   72.000 ₫       89.000 ₫  17.000 ₫           -19%  ...   \n",
       "2               885.0   69.000 ₫       89.900 ₫  20.900 ₫           -23%  ...   \n",
       "\n",
       "           Barcode  Thương Hiệu  Xuất xứ thương hiệu    Nơi sản xuất  \\\n",
       "0  5010724525937.0     Femfresh                  Anh  United Kingdom   \n",
       "1  8936123410254.0     Lactacyd                 Pháp         Vietnam   \n",
       "2  8934755010453.0        Diana             Nhật Bản         Vietnam   \n",
       "\n",
       "       Đặc Tính Giới tính                                Thành phần sản phẩm  \\\n",
       "0  Có Mùi Hương        Nữ  \\n1. Dung dịch vệ sinh phụ nữ Femfresh Daily I...   \n",
       "1  Có Mùi Hương        Nữ  \\n1. Dung Dịch Vệ Sinh Phụ Nữ Lactacyd Feminin...   \n",
       "2       Ban Đêm        Nữ  \\nVải không dệt, hạt siêu thấm, bông cellulose...   \n",
       "\n",
       "                                   Hướng dẫn sử dụng Loại da Vấn đề về da  \n",
       "0  \\n\\n\\nLàm ướt vùng kín\\n\\n\\nLấy 1 lượng vừa đủ...     NaN          NaN  \n",
       "1  \\n\\n\\nLàm ướt vùng kín, dùng 1 lượng dung dịch...     NaN          NaN  \n",
       "2  \\n\\n\\nThao tác như mặc quần thông thường.\\n\\n\\...     NaN          NaN  \n",
       "\n",
       "[3 rows x 23 columns]"
      ]
     },
     "execution_count": 102,
     "metadata": {},
     "output_type": "execute_result"
    }
   ],
   "source": [
    "df_products = pd.read_csv('../data/raw/hasaki_products.csv')\n",
    "\n",
    "df_products.head(3)"
   ]
  },
  {
   "cell_type": "code",
   "execution_count": 103,
   "metadata": {},
   "outputs": [],
   "source": [
    "df_products = df_products.drop_duplicates(subset='Mã sản phẩm',ignore_index=True)"
   ]
  },
  {
   "cell_type": "code",
   "execution_count": 104,
   "metadata": {},
   "outputs": [
    {
     "data": {
      "text/plain": [
       "Liên kết                  0\n",
       "Ảnh sản phẩm              0\n",
       "Mã sản phẩm               0\n",
       "Tên sản phẩm              0\n",
       "Mã danh mục               0\n",
       "Số sản phẩm đã bán        0\n",
       "Giá                       0\n",
       "Giá thị trường          477\n",
       "Tiết kiệm               477\n",
       "Phần trăm giảm          477\n",
       "Đánh giá trung bình       0\n",
       "Số lượt đánh giá          0\n",
       "Số lượt hỏi đáp           0\n",
       "Barcode                1494\n",
       "Thương Hiệu               4\n",
       "Xuất xứ thương hiệu      21\n",
       "Nơi sản xuất           1580\n",
       "Đặc Tính               3090\n",
       "Giới tính              1092\n",
       "Thành phần sản phẩm       0\n",
       "Hướng dẫn sử dụng         0\n",
       "Loại da                3214\n",
       "Vấn đề về da           3752\n",
       "dtype: int64"
      ]
     },
     "execution_count": 104,
     "metadata": {},
     "output_type": "execute_result"
    }
   ],
   "source": [
    "df_products.isnull().sum()"
   ]
  },
  {
   "cell_type": "code",
   "execution_count": 105,
   "metadata": {},
   "outputs": [
    {
     "name": "stdout",
     "output_type": "stream",
     "text": [
      "The missing values in the 'Giá thị trường' column have all been filled\n"
     ]
    }
   ],
   "source": [
    "for i in df_products['Giá thị trường'][df_products['Giá thị trường'].isnull()].index:\n",
    "    df_products.loc[i, 'Giá thị trường'] = df_products.loc[i, 'Giá']\n",
    "    \n",
    "print(\"The missing values in the 'Giá thị trường' column have all been filled\")"
   ]
  },
  {
   "cell_type": "code",
   "execution_count": 106,
   "metadata": {},
   "outputs": [
    {
     "name": "stdout",
     "output_type": "stream",
     "text": [
      "The missing values in the 'Tiết kiệm, Phần trăm giảm' columns have all been filled\n"
     ]
    }
   ],
   "source": [
    "df_products[['Tiết kiệm', 'Phần trăm giảm']] = df_products[['Tiết kiệm', 'Phần trăm giảm']].fillna('0')\n",
    "\n",
    "print(\"The missing values in the 'Tiết kiệm, Phần trăm giảm' columns have all been filled\")"
   ]
  },
  {
   "cell_type": "code",
   "execution_count": 107,
   "metadata": {},
   "outputs": [
    {
     "name": "stdout",
     "output_type": "stream",
     "text": [
      "Column \"Giá\" has been formatted\n",
      "Column \"Giá thị trường\" has been formatted\n",
      "Column \"Tiết kiệm\" has been formatted\n"
     ]
    }
   ],
   "source": [
    "def format_price(price_text):\n",
    "    price_text = price_text.replace('₫','').replace('.','').strip()\n",
    "    price_number = int(price_text)\n",
    "    return price_number\n",
    "\n",
    "price_to_format = ['Giá', 'Giá thị trường', 'Tiết kiệm']\n",
    "\n",
    "for col in price_to_format:\n",
    "    df_products[col] = df_products[col].apply(format_price)\n",
    "    print(f'Column \"{col}\" has been formatted')"
   ]
  },
  {
   "cell_type": "code",
   "execution_count": 108,
   "metadata": {},
   "outputs": [
    {
     "name": "stdout",
     "output_type": "stream",
     "text": [
      "Column \"Phần trăm giảm\" has been formatted\n"
     ]
    }
   ],
   "source": [
    "def format_percent(percent_text):\n",
    "    percent_text = percent_text.replace('-','').replace('%','')\n",
    "    percent_number = int(percent_text)\n",
    "    return percent_number\n",
    "\n",
    "df_products['Phần trăm giảm'] = df_products['Phần trăm giảm'].apply(format_percent)\n",
    "print(f'Column \"Phần trăm giảm\" has been formatted')"
   ]
  },
  {
   "cell_type": "code",
   "execution_count": 109,
   "metadata": {},
   "outputs": [
    {
     "name": "stdout",
     "output_type": "stream",
     "text": [
      "The missing values in the 'Thương Hiệu' column have all been filled\n"
     ]
    }
   ],
   "source": [
    "brands = {'Aquafresh': 433, 'Crest': 446, 'Laura Anne': 2763, 'Moroccanoil': 2867}\n",
    "\n",
    "for brand, index in brands.items():\n",
    "    df_products.loc[index, 'Thương Hiệu'] = brand\n",
    "    \n",
    "print(\"The missing values in the 'Thương Hiệu' column have all been filled\")"
   ]
  },
  {
   "cell_type": "code",
   "execution_count": 110,
   "metadata": {},
   "outputs": [
    {
     "name": "stdout",
     "output_type": "stream",
     "text": [
      "The missing values in the 'Xuất xứ thương hiệu' column have all been filled\n"
     ]
    }
   ],
   "source": [
    "brand_origin = {'Sunplay': 'Nhật Bản',\n",
    "                'Nivea': 'Ðức',\n",
    "                'BNBG': 'Hàn Quốc',\n",
    "                'Cathy Doll': 'Thái Lan',\n",
    "                'Narciso Rodriguez': 'Pháp',\n",
    "                'Marc Jacobs': 'Mỹ',\n",
    "                'B.O.M': 'Hàn Quốc',\n",
    "                'Grace And Glow': 'Việt Nam',\n",
    "                'Browit': 'Thái Lan',\n",
    "                'Black Rouge': 'Hàn Quốc'}\n",
    "\n",
    "for brand, origin in brand_origin.items():\n",
    "    df_products.loc[df_products['Thương Hiệu'] == brand, 'Xuất xứ thương hiệu'] = df_products.loc[df_products['Thương Hiệu'] == brand, 'Xuất xứ thương hiệu'].fillna(origin)\n",
    "\n",
    "print(\"The missing values in the 'Xuất xứ thương hiệu' column have all been filled\")"
   ]
  },
  {
   "cell_type": "code",
   "execution_count": 112,
   "metadata": {},
   "outputs": [],
   "source": [
    "df_products = df_products.fillna('Không có thông tin')"
   ]
  },
  {
   "cell_type": "code",
   "execution_count": 114,
   "metadata": {},
   "outputs": [],
   "source": [
    "df_products.to_csv('../data/clean/hasaki_products_cleaned.csv', encoding='utf-8-sig', index=False)"
   ]
  },
  {
   "cell_type": "markdown",
   "metadata": {},
   "source": [
    "# Comments"
   ]
  },
  {
   "cell_type": "code",
   "execution_count": 12,
   "metadata": {},
   "outputs": [
    {
     "data": {
      "text/html": [
       "<div>\n",
       "<style scoped>\n",
       "    .dataframe tbody tr th:only-of-type {\n",
       "        vertical-align: middle;\n",
       "    }\n",
       "\n",
       "    .dataframe tbody tr th {\n",
       "        vertical-align: top;\n",
       "    }\n",
       "\n",
       "    .dataframe thead th {\n",
       "        text-align: right;\n",
       "    }\n",
       "</style>\n",
       "<table border=\"1\" class=\"dataframe\">\n",
       "  <thead>\n",
       "    <tr style=\"text-align: right;\">\n",
       "      <th></th>\n",
       "      <th>Mã sản phẩm</th>\n",
       "      <th>Ngày</th>\n",
       "      <th>Tên khách hàng</th>\n",
       "      <th>Số sao đánh giá</th>\n",
       "      <th>Nội dung đánh giá</th>\n",
       "    </tr>\n",
       "  </thead>\n",
       "  <tbody>\n",
       "    <tr>\n",
       "      <th>0</th>\n",
       "      <td>422205453</td>\n",
       "      <td>20: 02 | 28/03/2024</td>\n",
       "      <td>VÕ THỊ KIM NGÂN</td>\n",
       "      <td>5.0</td>\n",
       "      <td></td>\n",
       "    </tr>\n",
       "    <tr>\n",
       "      <th>1</th>\n",
       "      <td>422205453</td>\n",
       "      <td>09: 48 | 22/02/2024</td>\n",
       "      <td>Quỳnh Trâm</td>\n",
       "      <td>5.0</td>\n",
       "      <td>Mình bị viêm nhẹ, mua về sử dụng 2 hôm là thấy...</td>\n",
       "    </tr>\n",
       "    <tr>\n",
       "      <th>2</th>\n",
       "      <td>422205453</td>\n",
       "      <td>13: 25 | 05/10/2023</td>\n",
       "      <td>Như Ýy</td>\n",
       "      <td>5.0</td>\n",
       "      <td>mình mới nhận được hàng mình mua sữa rửa mặt r...</td>\n",
       "    </tr>\n",
       "    <tr>\n",
       "      <th>3</th>\n",
       "      <td>422205453</td>\n",
       "      <td>22: 01 | 08/10/2022</td>\n",
       "      <td>Hồng Huệ</td>\n",
       "      <td>5.0</td>\n",
       "      <td>xài rất êm nha mn, thoải mái ko khô hay châm c...</td>\n",
       "    </tr>\n",
       "    <tr>\n",
       "      <th>4</th>\n",
       "      <td>422205453</td>\n",
       "      <td>21: 41 | 23/08/2022</td>\n",
       "      <td>Phượng Tăng</td>\n",
       "      <td>5.0</td>\n",
       "      <td>Nhẹ dịu\\nThơm\\nLâu lâu mặt bị mụn viêm lấy rửa...</td>\n",
       "    </tr>\n",
       "  </tbody>\n",
       "</table>\n",
       "</div>"
      ],
      "text/plain": [
       "   Mã sản phẩm                 Ngày   Tên khách hàng  Số sao đánh giá  \\\n",
       "0    422205453  20: 02 | 28/03/2024  VÕ THỊ KIM NGÂN              5.0   \n",
       "1    422205453  09: 48 | 22/02/2024       Quỳnh Trâm              5.0   \n",
       "2    422205453  13: 25 | 05/10/2023           Như Ýy              5.0   \n",
       "3    422205453  22: 01 | 08/10/2022         Hồng Huệ              5.0   \n",
       "4    422205453  21: 41 | 23/08/2022      Phượng Tăng              5.0   \n",
       "\n",
       "                                   Nội dung đánh giá  \n",
       "0                                                     \n",
       "1  Mình bị viêm nhẹ, mua về sử dụng 2 hôm là thấy...  \n",
       "2  mình mới nhận được hàng mình mua sữa rửa mặt r...  \n",
       "3  xài rất êm nha mn, thoải mái ko khô hay châm c...  \n",
       "4  Nhẹ dịu\\nThơm\\nLâu lâu mặt bị mụn viêm lấy rửa...  "
      ]
     },
     "execution_count": 12,
     "metadata": {},
     "output_type": "execute_result"
    }
   ],
   "source": [
    "df_comments = pd.read_csv('../data/raw/hasaki_comments.csv')\n",
    "\n",
    "df_comments.head()"
   ]
  },
  {
   "cell_type": "code",
   "execution_count": 13,
   "metadata": {},
   "outputs": [
    {
     "name": "stdout",
     "output_type": "stream",
     "text": [
      "Dimension of Dataframe: (34268, 5)\n",
      "Number of Null Values: 122\n",
      "Number of Duplicate Rows: 1694\n"
     ]
    }
   ],
   "source": [
    "print(f'Dimension of Dataframe: {df_comments.shape}')\n",
    "print(f'Number of Null Values: {df_comments.isnull().sum().sum()}')\n",
    "print(f'Number of Duplicate Rows: {len(df_comments[df_comments.duplicated()])}')"
   ]
  },
  {
   "cell_type": "code",
   "execution_count": 14,
   "metadata": {},
   "outputs": [
    {
     "name": "stdout",
     "output_type": "stream",
     "text": [
      "The missing values in the dataframe have all been removed\n",
      "The duplicate values in the dataframe have all been removed\n"
     ]
    }
   ],
   "source": [
    "df_comments.dropna(inplace=True)\n",
    "print(\"The missing values in the dataframe have all been removed\")\n",
    "\n",
    "df_comments.drop_duplicates(inplace=True)\n",
    "print(\"The duplicate values in the dataframe have all been removed\")"
   ]
  },
  {
   "cell_type": "code",
   "execution_count": 15,
   "metadata": {},
   "outputs": [],
   "source": [
    "def format_datetime(text):\n",
    "    time = text.split('|')[0].strip().replace(' ', '')\n",
    "    date = text.split('|')[1].strip().replace('/', '-')\n",
    "    datetime = f'{date} {time}'\n",
    "    return datetime\n",
    "\n",
    "df_comments['Ngày'] = df_comments['Ngày'].apply(format_datetime)\n",
    "df_comments['Ngày'] = pd.to_datetime(df_comments['Ngày'], format='%d-%m-%Y %H:%M')"
   ]
  },
  {
   "cell_type": "code",
   "execution_count": 16,
   "metadata": {},
   "outputs": [
    {
     "name": "stdout",
     "output_type": "stream",
     "text": [
      "The empty values in dataframe have all been removed\n"
     ]
    }
   ],
   "source": [
    "df_comments = df_comments[df_comments['Nội dung đánh giá'] != ' ']\n",
    "print(\"The empty values in dataframe have all been removed\")"
   ]
  },
  {
   "cell_type": "code",
   "execution_count": 17,
   "metadata": {},
   "outputs": [],
   "source": [
    "df_comments.reset_index(drop=True, inplace=True)"
   ]
  },
  {
   "cell_type": "code",
   "execution_count": 19,
   "metadata": {},
   "outputs": [],
   "source": [
    "df_comments.to_csv('../data/clean/hasaki_comments_cleaned.csv', encoding='utf-8-sig', index=False)"
   ]
  },
  {
   "cell_type": "markdown",
   "metadata": {},
   "source": [
    "# Categories"
   ]
  },
  {
   "cell_type": "code",
   "execution_count": 32,
   "metadata": {},
   "outputs": [
    {
     "data": {
      "text/html": [
       "<div>\n",
       "<style scoped>\n",
       "    .dataframe tbody tr th:only-of-type {\n",
       "        vertical-align: middle;\n",
       "    }\n",
       "\n",
       "    .dataframe tbody tr th {\n",
       "        vertical-align: top;\n",
       "    }\n",
       "\n",
       "    .dataframe thead th {\n",
       "        text-align: right;\n",
       "    }\n",
       "</style>\n",
       "<table border=\"1\" class=\"dataframe\">\n",
       "  <thead>\n",
       "    <tr style=\"text-align: right;\">\n",
       "      <th></th>\n",
       "      <th>Tên danh mục</th>\n",
       "      <th>Liên kết</th>\n",
       "      <th>Mã danh mục</th>\n",
       "    </tr>\n",
       "  </thead>\n",
       "  <tbody>\n",
       "    <tr>\n",
       "      <th>0</th>\n",
       "      <td>Trang Điểm Môi</td>\n",
       "      <td>https://hasaki.vn/danh-muc/trang-diem-moi-c24....</td>\n",
       "      <td>24</td>\n",
       "    </tr>\n",
       "    <tr>\n",
       "      <th>1</th>\n",
       "      <td>Mặt Nạ</td>\n",
       "      <td>https://hasaki.vn/danh-muc/mat-na-c30.html</td>\n",
       "      <td>30</td>\n",
       "    </tr>\n",
       "    <tr>\n",
       "      <th>2</th>\n",
       "      <td>Trang Điểm Mặt</td>\n",
       "      <td>https://hasaki.vn/danh-muc/trang-diem-mat-c52....</td>\n",
       "      <td>52</td>\n",
       "    </tr>\n",
       "    <tr>\n",
       "      <th>3</th>\n",
       "      <td>Sữa Rửa Mặt</td>\n",
       "      <td>https://hasaki.vn/danh-muc/sua-rua-mat-c19.html</td>\n",
       "      <td>19</td>\n",
       "    </tr>\n",
       "    <tr>\n",
       "      <th>4</th>\n",
       "      <td>Dầu Gội Và Dầu Xả</td>\n",
       "      <td>https://hasaki.vn/danh-muc/dau-goi-va-dau-xa-c...</td>\n",
       "      <td>2144</td>\n",
       "    </tr>\n",
       "  </tbody>\n",
       "</table>\n",
       "</div>"
      ],
      "text/plain": [
       "        Tên danh mục                                           Liên kết  \\\n",
       "0     Trang Điểm Môi  https://hasaki.vn/danh-muc/trang-diem-moi-c24....   \n",
       "1             Mặt Nạ         https://hasaki.vn/danh-muc/mat-na-c30.html   \n",
       "2     Trang Điểm Mặt  https://hasaki.vn/danh-muc/trang-diem-mat-c52....   \n",
       "3        Sữa Rửa Mặt    https://hasaki.vn/danh-muc/sua-rua-mat-c19.html   \n",
       "4  Dầu Gội Và Dầu Xả  https://hasaki.vn/danh-muc/dau-goi-va-dau-xa-c...   \n",
       "\n",
       "   Mã danh mục  \n",
       "0           24  \n",
       "1           30  \n",
       "2           52  \n",
       "3           19  \n",
       "4         2144  "
      ]
     },
     "execution_count": 32,
     "metadata": {},
     "output_type": "execute_result"
    }
   ],
   "source": [
    "df_categories = pd.read_csv('../data/raw/hasaki_categories.csv')\n",
    "\n",
    "df_categories.head()"
   ]
  },
  {
   "cell_type": "code",
   "execution_count": 33,
   "metadata": {},
   "outputs": [],
   "source": [
    "df_categories.to_csv('../data/clean/hasaki_categories_cleaned.csv', encoding='utf-8-sig', index=False)"
   ]
  }
 ],
 "metadata": {
  "kernelspec": {
   "display_name": "Python 3",
   "language": "python",
   "name": "python3"
  },
  "language_info": {
   "codemirror_mode": {
    "name": "ipython",
    "version": 3
   },
   "file_extension": ".py",
   "mimetype": "text/x-python",
   "name": "python",
   "nbconvert_exporter": "python",
   "pygments_lexer": "ipython3",
   "version": "3.12.4"
  }
 },
 "nbformat": 4,
 "nbformat_minor": 2
}
