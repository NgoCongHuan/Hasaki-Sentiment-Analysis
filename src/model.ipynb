{
 "cells": [
  {
   "cell_type": "code",
   "execution_count": 1,
   "metadata": {},
   "outputs": [],
   "source": [
    "import pandas as pd\n",
    "from tqdm import tqdm\n",
    "import re\n",
    "from vncorenlp import VnCoreNLP\n",
    "\n",
    "tqdm.pandas()\n",
    "\n",
    "pd.set_option('display.max_colwidth', None)\n",
    "pd.set_option('display.max_columns', None)"
   ]
  },
  {
   "cell_type": "code",
   "execution_count": 5,
   "metadata": {},
   "outputs": [
    {
     "name": "stdout",
     "output_type": "stream",
     "text": [
      "      Mã sản phẩm                 Ngày      Tên khách hàng  Số sao đánh giá  \\\n",
      "7766    422200355  2024-05-20 16:10:00                 vân              5.0   \n",
      "7767    422200355  2024-04-28 12:29:00            Mỹ Phụng              5.0   \n",
      "7768    422200355  2024-03-11 19:12:00  Trần Ngọc Bảo Trân              2.0   \n",
      "7769    422200355  2024-03-05 08:51:00              LE HOA              4.0   \n",
      "7770    422200355  2024-01-13 12:01:00                Ngọc              5.0   \n",
      "...           ...                  ...                 ...              ...   \n",
      "7907    422200355  2023-02-11 12:07:00         Dung Nguyễn              5.0   \n",
      "7908    422200355  2021-11-10 11:20:00          Vy Xuân Vũ              5.0   \n",
      "7909    422200355  2021-06-22 11:42:00   Bùi Thị Kim Cương              5.0   \n",
      "7910    422200355  2020-11-04 08:46:00    Nguyễn Xuân Thảo              3.0   \n",
      "7911    422200355  2020-09-30 21:46:00      Kim Hong Quách              5.0   \n",
      "\n",
      "                                                                                                                                                                                                                                    Nội dung đánh giá  \n",
      "7766                                                                                                                                                                                                  Sản phẩm có mùi nhẹ nhàng, thấm không bếch dính  \n",
      "7767  Mình sử dụng kết hợp 2 màu sau hơn 1 tháng thì có hiệu quả làm sáng da thật sự nhưng về phần thu nhỏ lcl thì chưa thấy, thay vào đó thì mình có cảm giác lông mọc mỏng hơn và thời gian mọc dài ra cũng lâu hơn. Sản phẩm rất đáng để mua lại ạ  \n",
      "7768      Mờ thâm hay thu nhỏ lỗ chân lông thì chưa thấy do mới dùng, cần thêm thời gian. Nhưng hiệu quả ngăn mùi là không có nha mng ơi, bình thường mình dùng sáp khử mùi rất oki chứ loại serum này ko dành cho người dễ đổ mồ hôi và có mùi đâu ạ  \n",
      "7769                                                                                                                                                                   sao nách tui càng dùng càng thâm vậy nè, thâm hơn lúc không dùng quá chán luôn  \n",
      "7770                                                                                                                                                                                             loại này cũng mua đến chai thứ 3 luôn, xài rất thích  \n",
      "...                                                                                                                                                                                                                                               ...  \n",
      "7907                                                                                                                      mình cực thích em này.. ngăn mồ hôi, thơm nữa. nách cũng sáng lên. mà shop mau hết hàng quá cứ phải canh về la mua 2 3 tuýt  \n",
      "7908                                                                                                                                                                                    thơm lắm! thơm lâu hơn dạng lăn ! mùi nhẹ có ngăn ngừa mồ hôi  \n",
      "7909                                                                                                                                        Giao hàng nhanh, sản phẩm có mùi hương dễ chịu, còn về công dụng thì mới mua nên để sử dụng rồi mới biết.  \n",
      "7910                                                                                                                                                  k ngăn mồ hôi tốt..trc xài loại sáp của rexona ngăn mồ hôi tốt hơn và giữ mùi thơm cũng lâu nữa  \n",
      "7911                                                                                                                                                                                                           Hương thơm nhẹ nhàng; ko gây kích ứng   \n",
      "\n",
      "[146 rows x 5 columns]\n"
     ]
    }
   ],
   "source": [
    "product = pd.read_csv('../data/clean/hasaki_comments_cleaned.csv')\n",
    "\n",
    "print(product[product['Mã sản phẩm'] == 422200355])"
   ]
  },
  {
   "cell_type": "code",
   "execution_count": 8,
   "metadata": {},
   "outputs": [],
   "source": [
    "product[product['Mã sản phẩm'] == 422200355].to_csv('../422200355_comments.csv', encoding='utf-8-sig', index=False)"
   ]
  },
  {
   "cell_type": "code",
   "execution_count": 9,
   "metadata": {},
   "outputs": [
    {
     "data": {
      "text/html": [
       "<div>\n",
       "<style scoped>\n",
       "    .dataframe tbody tr th:only-of-type {\n",
       "        vertical-align: middle;\n",
       "    }\n",
       "\n",
       "    .dataframe tbody tr th {\n",
       "        vertical-align: top;\n",
       "    }\n",
       "\n",
       "    .dataframe thead th {\n",
       "        text-align: right;\n",
       "    }\n",
       "</style>\n",
       "<table border=\"1\" class=\"dataframe\">\n",
       "  <thead>\n",
       "    <tr style=\"text-align: right;\">\n",
       "      <th></th>\n",
       "      <th>Mã sản phẩm</th>\n",
       "      <th>Ngày</th>\n",
       "      <th>Tên khách hàng</th>\n",
       "      <th>Số sao đánh giá</th>\n",
       "      <th>Nội dung đánh giá</th>\n",
       "    </tr>\n",
       "  </thead>\n",
       "  <tbody>\n",
       "    <tr>\n",
       "      <th>0</th>\n",
       "      <td>422200355</td>\n",
       "      <td>2024-05-20 16:10:00</td>\n",
       "      <td>vân</td>\n",
       "      <td>5.0</td>\n",
       "      <td>Sản phẩm có mùi nhẹ nhàng, thấm không bếch dính</td>\n",
       "    </tr>\n",
       "    <tr>\n",
       "      <th>1</th>\n",
       "      <td>422200355</td>\n",
       "      <td>2024-04-28 12:29:00</td>\n",
       "      <td>Mỹ Phụng</td>\n",
       "      <td>5.0</td>\n",
       "      <td>Mình sử dụng kết hợp 2 màu sau hơn 1 tháng thì có hiệu quả làm sáng da thật sự nhưng về phần thu nhỏ lcl thì chưa thấy, thay vào đó thì mình có cảm giác lông mọc mỏng hơn và thời gian mọc dài ra cũng lâu hơn. Sản phẩm rất đáng để mua lại ạ</td>\n",
       "    </tr>\n",
       "    <tr>\n",
       "      <th>2</th>\n",
       "      <td>422200355</td>\n",
       "      <td>2024-03-11 19:12:00</td>\n",
       "      <td>Trần Ngọc Bảo Trân</td>\n",
       "      <td>2.0</td>\n",
       "      <td>Mờ thâm hay thu nhỏ lỗ chân lông thì chưa thấy do mới dùng, cần thêm thời gian. Nhưng hiệu quả ngăn mùi là không có nha mng ơi, bình thường mình dùng sáp khử mùi rất oki chứ loại serum này ko dành cho người dễ đổ mồ hôi và có mùi đâu ạ</td>\n",
       "    </tr>\n",
       "    <tr>\n",
       "      <th>3</th>\n",
       "      <td>422200355</td>\n",
       "      <td>2024-03-05 08:51:00</td>\n",
       "      <td>LE HOA</td>\n",
       "      <td>4.0</td>\n",
       "      <td>sao nách tui càng dùng càng thâm vậy nè, thâm hơn lúc không dùng quá chán luôn</td>\n",
       "    </tr>\n",
       "    <tr>\n",
       "      <th>4</th>\n",
       "      <td>422200355</td>\n",
       "      <td>2024-01-13 12:01:00</td>\n",
       "      <td>Ngọc</td>\n",
       "      <td>5.0</td>\n",
       "      <td>loại này cũng mua đến chai thứ 3 luôn, xài rất thích</td>\n",
       "    </tr>\n",
       "  </tbody>\n",
       "</table>\n",
       "</div>"
      ],
      "text/plain": [
       "   Mã sản phẩm                 Ngày      Tên khách hàng  Số sao đánh giá  \\\n",
       "0    422200355  2024-05-20 16:10:00                 vân              5.0   \n",
       "1    422200355  2024-04-28 12:29:00            Mỹ Phụng              5.0   \n",
       "2    422200355  2024-03-11 19:12:00  Trần Ngọc Bảo Trân              2.0   \n",
       "3    422200355  2024-03-05 08:51:00              LE HOA              4.0   \n",
       "4    422200355  2024-01-13 12:01:00                Ngọc              5.0   \n",
       "\n",
       "                                                                                                                                                                                                                                 Nội dung đánh giá  \n",
       "0                                                                                                                                                                                                  Sản phẩm có mùi nhẹ nhàng, thấm không bếch dính  \n",
       "1  Mình sử dụng kết hợp 2 màu sau hơn 1 tháng thì có hiệu quả làm sáng da thật sự nhưng về phần thu nhỏ lcl thì chưa thấy, thay vào đó thì mình có cảm giác lông mọc mỏng hơn và thời gian mọc dài ra cũng lâu hơn. Sản phẩm rất đáng để mua lại ạ  \n",
       "2      Mờ thâm hay thu nhỏ lỗ chân lông thì chưa thấy do mới dùng, cần thêm thời gian. Nhưng hiệu quả ngăn mùi là không có nha mng ơi, bình thường mình dùng sáp khử mùi rất oki chứ loại serum này ko dành cho người dễ đổ mồ hôi và có mùi đâu ạ  \n",
       "3                                                                                                                                                                   sao nách tui càng dùng càng thâm vậy nè, thâm hơn lúc không dùng quá chán luôn  \n",
       "4                                                                                                                                                                                             loại này cũng mua đến chai thứ 3 luôn, xài rất thích  "
      ]
     },
     "execution_count": 9,
     "metadata": {},
     "output_type": "execute_result"
    }
   ],
   "source": [
    "df = pd.read_csv('../422200355_comments.csv')\n",
    "\n",
    "df.head()"
   ]
  },
  {
   "cell_type": "markdown",
   "metadata": {},
   "source": [
    "<hr>"
   ]
  },
  {
   "cell_type": "code",
   "execution_count": 10,
   "metadata": {},
   "outputs": [],
   "source": [
    "vncorenlp_file = r'../absolute/path/to/vncorenlp/VnCoreNLP-1.2.jar'\n",
    "vncorenlp = VnCoreNLP(vncorenlp_file)\n",
    "\n",
    "def word_tokenize(sentences):\n",
    "\n",
    "    sentences_tokenized = vncorenlp.tokenize(sentences)\n",
    "    sentences_cleaned = sentences_tokenized[0]\n",
    "    # sentences_cleaned = \" \".join(words)\n",
    "    vncorenlp.close()\n",
    "\n",
    "    return sentences_cleaned\n",
    "\n",
    "def preprocess_text(text):\n",
    "    \n",
    "    # Chuyển đổi thành chữ thường\n",
    "    text = text.lower()\n",
    "    # Loại bỏ dấu câu\n",
    "    text = re.sub(r'[^\\w\\s]', ' ', text)\n",
    "    # Thay thế khoảng trắng liên tiếp bằng một khoảng trắng đơn\n",
    "    text = re.sub(r'\\s+', ' ', text)\n",
    "    # Thay dấu gạch dưới bằng khoảng trống\n",
    "    text = text.replace('_',' ')\n",
    "    # Loại bỏ khoảng trống ở hai đầu\n",
    "    text = text.strip()\n",
    "\n",
    "    text = word_tokenize(text)\n",
    "\n",
    "    text = remove_stopwords(text)\n",
    "\n",
    "    return text\n",
    "\n",
    "def remove_stopwords(text):\n",
    "    \n",
    "    with open('../assets/vietnamese-stopwords.txt', 'r', encoding='utf-8') as file:\n",
    "        stop_words = [line.strip() for line in file]\n",
    "    \n",
    "    # Loại bỏ các từ dừng\n",
    "    text = [word for word in text if word not in stop_words]\n",
    "    \n",
    "    return text"
   ]
  },
  {
   "cell_type": "code",
   "execution_count": 11,
   "metadata": {},
   "outputs": [
    {
     "name": "stderr",
     "output_type": "stream",
     "text": [
      "  0%|          | 0/146 [00:00<?, ?it/s]"
     ]
    },
    {
     "name": "stderr",
     "output_type": "stream",
     "text": [
      "100%|██████████| 146/146 [00:02<00:00, 58.35it/s]\n"
     ]
    }
   ],
   "source": [
    "df['Nội dung đánh giá (Cleaned)'] = df['Nội dung đánh giá'].progress_map(preprocess_text)"
   ]
  },
  {
   "cell_type": "code",
   "execution_count": 12,
   "metadata": {},
   "outputs": [
    {
     "name": "stdout",
     "output_type": "stream",
     "text": [
      "['sản_phẩm', 'mùi', 'nhẹ_nhàng', 'thấm', 'bếch', 'dính']\n",
      "['sử_dụng', 'kết_hợp', '2', 'màu', '1', 'hiệu_quả', 'da', 'thật_sự', 'thu', 'lcl', 'thay', 'cảm_giác', 'lông', 'mọc', 'mỏng', 'thời_gian', 'mọc', 'sản_phẩm', 'mua']\n",
      "['mờ', 'thâm', 'thu', 'lỗ_chân_lông', 'thời_gian', 'hiệu_quả', 'ngăn', 'mùi', 'nha', 'mng', 'bình_thường', 'sáp', 'khử', 'mùi', 'oki', 'serum', 'ko', 'đổ', 'mồ_hôi', 'mùi']\n",
      "['nách', 'tui', 'thâm', 'nè', 'thâm', 'chán']\n",
      "['mua', 'chai', '3', 'xài']\n",
      "['mua', 'chai', '3', 'xài', 'ưng']\n",
      "['10', 'sản_phẩm', 'chất_lượng', 'lắm']\n",
      "['sản_phẩm', 'chất_lượng']\n",
      "['10']\n",
      "['10d']\n",
      "['ưng', 'giá', 'rẻ', 'phù_hợp', 'túi_tiền', 'hiệu_quả', 'nha', 'mn']\n",
      "['10đ']\n",
      "['10đ']\n",
      "['10']\n",
      "['10']\n",
      "['sản_phẩm', '10', 'nha']\n",
      "['10đ']\n",
      "['10đ']\n",
      "['sản_phẩm', '10', 'ngăn', 'mùi', 'mà_còn', 'thoáng', 'bết', 'dính']\n",
      "['da', 'mịn', 'hẳn', 'màu_da']\n",
      "['sản_phẩm', 'ok', 'lắm']\n",
      "['lắm', 'khô', 'thoáng', 'mùi', 'thơm', 'nhẹ', 'dễ_chịu', 'mua']\n",
      "['10đ']\n",
      "['sản_phẩm', 'hợp', 'giá', 'tiền', 'moi', 'mua', 'sài', 'mua', 'tiếp', 'shop', 'nhiệt_tình', 'ok', 'lắm', 'moi', 'thử']\n",
      "['sản_phẩm', '10', 'mua']\n",
      "['sản_phẩm', 'sử_dụng']\n",
      "['lắm', 'ủng_hộ']\n",
      "['sản_phẩm', 'ok']\n",
      "['sản_phẩm', 'ok']\n",
      "['10đ']\n",
      "['10đ']\n",
      "['sản_phẩm', 'chất', 'luong', 'tot', '10', 'đ']\n",
      "['10đ']\n",
      "['10đ']\n",
      "['sản_phẩm', 'siêu']\n",
      "['sản_phẩm', 'moi', 'mua', 'mua']\n",
      "['10', 'đ']\n",
      "['hàng', 'tiếp_tục', 'mua']\n",
      "['10', 'đ']\n",
      "['sản_phẩm', 'ok', '10diem']\n",
      "['10']\n",
      "['10đ']\n",
      "['10đ']\n",
      "['10đ']\n",
      "['10đ']\n",
      "['10đ']\n",
      "['10đ']\n",
      "['10đ']\n",
      "['10', 'diem']\n",
      "['10đ']\n",
      "['10đ']\n",
      "['10đ']\n",
      "['sản_phẩm']\n",
      "['10đ']\n",
      "['10']\n",
      "['10đ']\n",
      "['10đ']\n",
      "['10']\n",
      "['10đ']\n",
      "['10']\n",
      "['10đ']\n",
      "['10', 'đ']\n",
      "['10đ']\n",
      "['sản_phẩm']\n",
      "['mùi', 'thơm', 'bết', 'dính', 'thoáng', 'k', 'vàng', 'áo', 'mn', 'thức', 'nha']\n",
      "['10']\n",
      "['10đ']\n",
      "['10đ']\n",
      "['10']\n",
      "['sản_phẩm']\n",
      "['10']\n",
      "['10']\n",
      "['10', 'nha']\n",
      "['10']\n",
      "['10']\n",
      "['sản_phẩm', 'mua', 'ng']\n",
      "['https', 'hasaki', 'vn', 'san', 'pham', 'kem', 'khu', 'mui', 'dove', 'collagen', 'b3', 'duong', 'deu', 'mau', '40ml', '90579', 'html']\n",
      "['10đ']\n",
      "['chân', 'nhoa']\n",
      "['sản_phẩm', 'sử_dụng']\n",
      "['giá', 'phù_hợp', 'chất_lượng', 'tạm', 'ổn']\n",
      "['10']\n",
      "['sản_phẩm', 'giá', 'phải_chăng']\n",
      "['10d']\n",
      "['serum', 'thẩm_thấu', 'thơm', 'mua']\n",
      "['sp', 'nêm', 'mua', 'gái', 'hợp_lý']\n",
      "['trải_nghiệm', 'cảm_nhận', '10đ']\n",
      "['sp', 'đồng_tiền_bát_gạo', 'mua', 'nha']\n",
      "['sản_phẩm', 'lắm', 'giá_cả', 'phải_chăng']\n",
      "['10d']\n",
      "['10đ']\n",
      "['10đ']\n",
      "['sản_phẩm', 'mùi', 'hương', 'nhẹ_nhàng', 'mềm_mại', 'thấm', 'mua', 'sử_dụng', 'lắm']\n",
      "['sản_phẩm']\n",
      "['sản_phẩm', 'hiệu_quả']\n",
      "['10đ']\n",
      "['sản_phẩm', 'mn', 'sd', 'nè']\n",
      "['10d']\n",
      "['10đ']\n",
      "['10đ']\n",
      "['10đ']\n",
      "['10đ']\n",
      "['10đ']\n",
      "['10đ']\n",
      "['10']\n",
      "['10']\n",
      "['10đ']\n",
      "['10đ', 'sp']\n",
      "['10đ']\n",
      "['sản_phẩm', 'hài_lòng']\n",
      "['10đ', 'sản_phẩm', 'giới_thiệu']\n",
      "['10đ']\n",
      "['10đ']\n",
      "['mười']\n",
      "['10đ']\n",
      "['ok']\n",
      "['10đ']\n",
      "['10đ', 'sản_phẩm', 'chất_lượng']\n",
      "['10đ']\n",
      "[]\n",
      "['ok']\n",
      "['sản_phẩm', '10điểm']\n",
      "['sản', 'phấm', '10', 'nha']\n",
      "['serum', 'ngăn', 'mùi', 'dove', 'giúp', 'da', 'mịn', 'màu', '40ml', 'deodorant', 'dry', 'serum', '3', 'niacinamide', '10x', 'collagen']\n",
      "['10d']\n",
      "['sp']\n",
      "['san', 'phẩm', 'xài', 'hiệu_quả', 'lắm']\n",
      "['10']\n",
      "['10']\n",
      "['ổn', 'dạng', 'kem', 'khô', 'bôi', 'thao_tác', 'thoa', 'khô', 'lắm', 'hơi', 'bất_tiện', 'chỗ']\n",
      "['mồ_hôi', 'tối', 'tắm', 'dậy', 'chuẩn_bị', 'k', 'mùi', 'k', 'mùi', 'tay_áo', 'đỉnh', 'thật_sự', '10đ', 'k']\n",
      "['cũg', 'thơm']\n",
      "['nặng_mùi', 'cánh_tay', 'mua', 'sài', 'thử', 'tắm', 'nguyên', 'hôm', 'thậm_chí', 'đi', 'đường', 'tiết', 'mùi', 'khó_chịu', 'mồ_hôi', 'hề', 'mùi', 'ngửi', 'mùi', 'lắm', 'sản_phẩm', 'chắc_chắn', 'mua']\n",
      "['thấm', 'công_dụng', 'điều_tiết', 'mồ_hôi', 'khử', 'mùi', 'liên_tục', '2', 'tuần', 'dưỡng', 'nhẹ_nhàng', 'chất', 'cream', 'k', 'đầu', 'lăn', 'dạng', 'tròn', 'hơi', 'apply']\n",
      "['khử', 'mùi', 'kém', 'cải_thiện', 'thâm', 'sạm', 'sài']\n",
      "['đổi', 'bao_bì', 'màu', 'xanh', 'lá', 'ko', 'thơm']\n",
      "['màu', 'hồng', 'sài', 'okela', 'nma', 'bản_thân', 'màu', 'xanh', 'lá', 'thơm']\n",
      "['có_hạn', 'chế', 'mùi', 'nhưng_mà', 'trắng', 'da', 'thu', 'lcl', 'hoàn_toàn', 'k', 'hơi', 'thâm', 'nách', 'xí', 'xiu', 'se', 'tiep', 'tục', 'vs', 'sáp', 'xịt', 'nhẹ_nhàng', 'đỡ', 'kích_ứng', 'da', 'nách', 'k', 'hợp', 'cơ_thể', 'nặng_mùi', 'hđ', 'nhe']\n",
      "['hình_như', 'đc', '1', 'sản_phẩm', 'tiêu_chí', '1', 'sản_phẩm', 'khử', 'mùi', 'thấm', 'mùi', 'nhẹ_nhàng', 'ko', 'lưu', 'hương', 'ko', 'ố', 'vàng', 'áo', 'đổ', 'mồ_hôi', 'bthg', 'ko', 'mùi', '3', 'nc', 'lã', 'zậy']\n",
      "['lăn', 'màu', 'hồng', 'mua', 'thử', 'dạng', 'kem', 'màu', 'xanh', 'mùi', 'y_hệt', '1', 'thời_gian', 'ưng', 'đánh_giá', 'kem', 'thấm', 'thoa', '2', 'tiếng', 'mùi', 'kem', 'mùi', 'khó_chịu', 'trời', 'nắng_nóng', 'ố', 'vàng', 'áo', 'lăn', 'mua']\n",
      "['mồ_hôi', 'nma', 'k', 'hôi', 'thơm', 'mùi', 'kem', 'khử', 'mùi', 'mùi', 'thơm', 'lắm', 'dưỡng', 'rõ_ràng', 'cân_nhắc', 'mua']\n",
      "['cực', 'ngăn', 'mồ_hôi', 'thơm', 'nách', 'shop', 'mau', 'hàng', 'canh', 'la', 'mua', '2', '3', 'tuýt']\n",
      "['thơm', 'lắm', 'thơm', 'dạng', 'lăn', 'mùi', 'nhẹ', 'ngăn_ngừa', 'mồ_hôi']\n",
      "['giao', 'hàng', 'sản_phẩm', 'mùi', 'hương', 'dễ_chịu', 'công_dụng', 'mua', 'sử_dụng']\n",
      "['k', 'ngăn', 'mồ_hôi', 'trc', 'xài', 'sáp', 'rexona', 'ngăn', 'mồ_hôi', 'mùi', 'thơm']\n",
      "['hương', 'thơm', 'nhẹ_nhàng', 'ko', 'kích_ứng']\n"
     ]
    }
   ],
   "source": [
    "for t in df['Nội dung đánh giá (Cleaned)']:\n",
    "    print(t)"
   ]
  },
  {
   "cell_type": "code",
   "execution_count": 13,
   "metadata": {},
   "outputs": [
    {
     "data": {
      "text/plain": [
       "146"
      ]
     },
     "execution_count": 13,
     "metadata": {},
     "output_type": "execute_result"
    }
   ],
   "source": [
    "data_words = df['Nội dung đánh giá (Cleaned)'].values.tolist()\n",
    "len(data_words)"
   ]
  },
  {
   "cell_type": "code",
   "execution_count": 14,
   "metadata": {},
   "outputs": [
    {
     "name": "stdout",
     "output_type": "stream",
     "text": [
      "[(0, 1), (1, 1), (2, 1), (3, 1), (4, 1), (5, 1)]\n"
     ]
    }
   ],
   "source": [
    "import gensim.corpora as corpora\n",
    "\n",
    "# Create Dictionary\n",
    "id2word = corpora.Dictionary(data_words)\n",
    "# Create Corpus\n",
    "texts = data_words\n",
    "# Term Document Frequency\n",
    "corpus = [id2word.doc2bow(text) for text in texts]\n",
    "# View\n",
    "print(corpus[:1][0][:30])"
   ]
  },
  {
   "cell_type": "code",
   "execution_count": 15,
   "metadata": {},
   "outputs": [
    {
     "name": "stdout",
     "output_type": "stream",
     "text": [
      "[(0,\n",
      "  '0.137*\"10\" + 0.035*\"lắm\" + 0.035*\"đ\" + 0.019*\"sản_phẩm\" + 0.019*\"san\" + '\n",
      "  '0.019*\"https\" + 0.019*\"dove\" + 0.019*\"kem\" + 0.019*\"pham\" + 0.019*\"40ml\"'),\n",
      " (1,\n",
      "  '0.056*\"thâm\" + 0.029*\"10đ\" + 0.029*\"10\" + 0.029*\"nha\" + 0.029*\"nè\" + '\n",
      "  '0.029*\"chán\" + 0.029*\"nách\" + 0.029*\"da\" + 0.029*\"sản\" + 0.029*\"tui\"'),\n",
      " (2,\n",
      "  '0.093*\"sản_phẩm\" + 0.071*\"mua\" + 0.041*\"lắm\" + 0.027*\"mùi\" + 0.027*\"moi\" + '\n",
      "  '0.018*\"10\" + 0.018*\"da\" + 0.018*\"nách\" + 0.018*\"hợp\" + 0.018*\"nhẹ_nhàng\"'),\n",
      " (3,\n",
      "  '0.047*\"mồ_hôi\" + 0.047*\"xài\" + 0.032*\"ngăn\" + 0.032*\"mùi\" + 0.032*\"mua\" + '\n",
      "  '0.032*\"k\" + 0.032*\"3\" + 0.032*\"chai\" + 0.017*\"10\" + 0.017*\"sản_phẩm\"'),\n",
      " (4,\n",
      "  '0.123*\"sản_phẩm\" + 0.056*\"mùi\" + 0.040*\"10\" + 0.032*\"mua\" + 0.028*\"lắm\" + '\n",
      "  '0.021*\"thơm\" + 0.020*\"ok\" + 0.017*\"mồ_hôi\" + 0.017*\"kem\" + 0.017*\"khô\"'),\n",
      " (5,\n",
      "  '0.032*\"10\" + 0.032*\"sản_phẩm\" + 0.032*\"mua\" + 0.032*\"mùi\" + 0.032*\"sử_dụng\" '\n",
      "  '+ 0.032*\"hàng\" + 0.032*\"hương\" + 0.032*\"công_dụng\" + 0.032*\"dễ_chịu\" + '\n",
      "  '0.032*\"giao\"'),\n",
      " (6,\n",
      "  '0.237*\"10đ\" + 0.036*\"mùi\" + 0.027*\"ngăn\" + 0.027*\"serum\" + 0.027*\"mua\" + '\n",
      "  '0.027*\"ok\" + 0.018*\"sản_phẩm\" + 0.018*\"mồ_hôi\" + 0.018*\"3\" + 0.018*\"hàng\"'),\n",
      " (7,\n",
      "  '0.215*\"10\" + 0.026*\"mùi\" + 0.026*\"thâm\" + 0.026*\"cải_thiện\" + 0.026*\"sài\" + '\n",
      "  '0.026*\"khử\" + 0.026*\"sạm\" + 0.026*\"kém\" + 0.026*\"chân\" + 0.026*\"nhoa\"'),\n",
      " (8,\n",
      "  '0.142*\"10đ\" + 0.040*\"k\" + 0.027*\"mùi\" + 0.027*\"thật_sự\" + 0.027*\"mọc\" + '\n",
      "  '0.027*\"hiệu_quả\" + 0.014*\"sản_phẩm\" + 0.014*\"mua\" + 0.014*\"sử_dụng\" + '\n",
      "  '0.014*\"lông\"'),\n",
      " (9,\n",
      "  '0.063*\"mùi\" + 0.056*\"10đ\" + 0.035*\"thơm\" + 0.035*\"ko\" + 0.028*\"nha\" + '\n",
      "  '0.021*\"sản_phẩm\" + 0.021*\"mua\" + 0.021*\"1\" + 0.021*\"kem\" + 0.021*\"áo\"')]\n"
     ]
    }
   ],
   "source": [
    "from gensim.models import LdaMulticore\n",
    "from gensim.models import LdaModel\n",
    "from pprint import pprint\n",
    "\n",
    "# number of topics\n",
    "num_topics = 10\n",
    "# Build LDA model\n",
    "lda_model = LdaMulticore(corpus=corpus, id2word=id2word,\n",
    "                     num_topics=num_topics, iterations=400)\n",
    "# Print the Keyword in the 10 topics\n",
    "pprint(lda_model.print_topics())\n",
    "doc_lda = lda_model[corpus]"
   ]
  },
  {
   "cell_type": "code",
   "execution_count": 28,
   "metadata": {},
   "outputs": [],
   "source": [
    "topics = lda_model.print_topics()"
   ]
  },
  {
   "cell_type": "code",
   "execution_count": 25,
   "metadata": {},
   "outputs": [
    {
     "name": "stdout",
     "output_type": "stream",
     "text": [
      "0.137*\"10\" + 0.035*\"lắm\" + 0.035*\"đ\" + 0.019*\"sản_phẩm\" + 0.019*\"san\" + 0.019*\"https\" + 0.019*\"dove\" + 0.019*\"kem\" + 0.019*\"pham\" + 0.019*\"40ml\"\n",
      "0.056*\"thâm\" + 0.029*\"10đ\" + 0.029*\"10\" + 0.029*\"nha\" + 0.029*\"nè\" + 0.029*\"chán\" + 0.029*\"nách\" + 0.029*\"da\" + 0.029*\"sản\" + 0.029*\"tui\"\n",
      "0.093*\"sản_phẩm\" + 0.071*\"mua\" + 0.041*\"lắm\" + 0.027*\"mùi\" + 0.027*\"moi\" + 0.018*\"10\" + 0.018*\"da\" + 0.018*\"nách\" + 0.018*\"hợp\" + 0.018*\"nhẹ_nhàng\"\n",
      "0.047*\"mồ_hôi\" + 0.047*\"xài\" + 0.032*\"ngăn\" + 0.032*\"mùi\" + 0.032*\"mua\" + 0.032*\"k\" + 0.032*\"3\" + 0.032*\"chai\" + 0.017*\"10\" + 0.017*\"sản_phẩm\"\n",
      "0.123*\"sản_phẩm\" + 0.056*\"mùi\" + 0.040*\"10\" + 0.032*\"mua\" + 0.028*\"lắm\" + 0.021*\"thơm\" + 0.020*\"ok\" + 0.017*\"mồ_hôi\" + 0.017*\"kem\" + 0.017*\"khô\"\n",
      "0.032*\"10\" + 0.032*\"sản_phẩm\" + 0.032*\"mua\" + 0.032*\"mùi\" + 0.032*\"sử_dụng\" + 0.032*\"hàng\" + 0.032*\"hương\" + 0.032*\"công_dụng\" + 0.032*\"dễ_chịu\" + 0.032*\"giao\"\n",
      "0.237*\"10đ\" + 0.036*\"mùi\" + 0.027*\"ngăn\" + 0.027*\"serum\" + 0.027*\"mua\" + 0.027*\"ok\" + 0.018*\"sản_phẩm\" + 0.018*\"mồ_hôi\" + 0.018*\"3\" + 0.018*\"hàng\"\n",
      "0.215*\"10\" + 0.026*\"mùi\" + 0.026*\"thâm\" + 0.026*\"cải_thiện\" + 0.026*\"sài\" + 0.026*\"khử\" + 0.026*\"sạm\" + 0.026*\"kém\" + 0.026*\"chân\" + 0.026*\"nhoa\"\n",
      "0.142*\"10đ\" + 0.040*\"k\" + 0.027*\"mùi\" + 0.027*\"thật_sự\" + 0.027*\"mọc\" + 0.027*\"hiệu_quả\" + 0.014*\"sản_phẩm\" + 0.014*\"mua\" + 0.014*\"sử_dụng\" + 0.014*\"lông\"\n",
      "0.063*\"mùi\" + 0.056*\"10đ\" + 0.035*\"thơm\" + 0.035*\"ko\" + 0.028*\"nha\" + 0.021*\"sản_phẩm\" + 0.021*\"mua\" + 0.021*\"1\" + 0.021*\"kem\" + 0.021*\"áo\"\n"
     ]
    }
   ],
   "source": [
    "for topic in topics:\n",
    "    print(topic[1])"
   ]
  },
  {
   "cell_type": "code",
   "execution_count": 35,
   "metadata": {},
   "outputs": [],
   "source": [
    "list_topics = [topic[1] for topic in test]"
   ]
  },
  {
   "cell_type": "code",
   "execution_count": 36,
   "metadata": {},
   "outputs": [
    {
     "data": {
      "text/plain": [
       "['0.026*\"phone\" + 0.021*\"price\" + 0.019*\"i\" + 0.019*\"camera\" + 0.018*\"bad\" + 0.016*\"evil\" + 0.016*\"mobile\" + 0.015*\"great\" + 0.012*\"redmi\" + 0.011*\"performance\"',\n",
       " '0.047*\"phone\" + 0.043*\"i\" + 0.039*\"good\" + 0.021*\"camera\" + 0.016*\"battery\" + 0.015*\"awesome\" + 0.013*\"redmi\" + 0.012*\"flipkart\" + 0.012*\"mobile\" + 0.012*\"price\"',\n",
       " '0.042*\"phone\" + 0.035*\"i\" + 0.030*\"good\" + 0.029*\"camera\" + 0.021*\"mobile\" + 0.019*\"battery\" + 0.018*\"bad\" + 0.016*\"price\" + 0.013*\"evil\" + 0.013*\"product\"',\n",
       " '0.039*\"phone\" + 0.020*\"excellent\" + 0.019*\"camera\" + 0.019*\"price\" + 0.015*\"money\" + 0.015*\"awesome\" + 0.015*\"bad\" + 0.014*\"battery\" + 0.013*\"face\" + 0.013*\"i\"',\n",
       " '0.040*\"camera\" + 0.039*\"phone\" + 0.032*\"good\" + 0.022*\"battery\" + 0.016*\"mobile\" + 0.016*\"performance\" + 0.014*\"price\" + 0.014*\"display\" + 0.013*\"i\" + 0.013*\"evil\"',\n",
       " '0.046*\"phone\" + 0.028*\"camera\" + 0.026*\"i\" + 0.022*\"bad\" + 0.019*\"evil\" + 0.014*\"performance\" + 0.013*\"price\" + 0.013*\"great\" + 0.012*\"display\" + 0.012*\"good\"',\n",
       " '0.034*\"phone\" + 0.032*\"bad\" + 0.026*\"camera\" + 0.024*\"good\" + 0.021*\"face\" + 0.019*\"evil\" + 0.016*\"performance\" + 0.015*\"smile\" + 0.015*\"mobile\" + 0.013*\"battery\"',\n",
       " '0.029*\"bad\" + 0.025*\"product\" + 0.022*\"phone\" + 0.018*\"battery\" + 0.017*\"i\" + 0.017*\"camera\" + 0.015*\"money\" + 0.013*\"good\" + 0.013*\"redmi\" + 0.010*\"note\"',\n",
       " '0.063*\"good\" + 0.030*\"camera\" + 0.026*\"phone\" + 0.025*\"i\" + 0.021*\"battery\" + 0.015*\"evil\" + 0.015*\"performance\" + 0.012*\"display\" + 0.011*\"money\" + 0.011*\"product\"',\n",
       " '0.044*\"i\" + 0.038*\"phone\" + 0.025*\"good\" + 0.021*\"camera\" + 0.018*\"product\" + 0.016*\"flipkart\" + 0.016*\"battery\" + 0.016*\"quality\" + 0.015*\"evil\" + 0.014*\"thank\"']"
      ]
     },
     "execution_count": 36,
     "metadata": {},
     "output_type": "execute_result"
    }
   ],
   "source": [
    "list_topics"
   ]
  },
  {
   "cell_type": "code",
   "execution_count": 34,
   "metadata": {},
   "outputs": [],
   "source": [
    "test = [(0,\n",
    "  '0.026*\"phone\" + 0.021*\"price\" + 0.019*\"i\" + 0.019*\"camera\" + 0.018*\"bad\" + '\n",
    "  '0.016*\"evil\" + 0.016*\"mobile\" + 0.015*\"great\" + 0.012*\"redmi\" + '\n",
    "  '0.011*\"performance\"'),\n",
    " (1,\n",
    "  '0.047*\"phone\" + 0.043*\"i\" + 0.039*\"good\" + 0.021*\"camera\" + 0.016*\"battery\" '\n",
    "  '+ 0.015*\"awesome\" + 0.013*\"redmi\" + 0.012*\"flipkart\" + 0.012*\"mobile\" + '\n",
    "  '0.012*\"price\"'),\n",
    " (2,\n",
    "  '0.042*\"phone\" + 0.035*\"i\" + 0.030*\"good\" + 0.029*\"camera\" + 0.021*\"mobile\" '\n",
    "  '+ 0.019*\"battery\" + 0.018*\"bad\" + 0.016*\"price\" + 0.013*\"evil\" + '\n",
    "  '0.013*\"product\"'),\n",
    " (3,\n",
    "  '0.039*\"phone\" + 0.020*\"excellent\" + 0.019*\"camera\" + 0.019*\"price\" + '\n",
    "  '0.015*\"money\" + 0.015*\"awesome\" + 0.015*\"bad\" + 0.014*\"battery\" + '\n",
    "  '0.013*\"face\" + 0.013*\"i\"'),\n",
    " (4,\n",
    "  '0.040*\"camera\" + 0.039*\"phone\" + 0.032*\"good\" + 0.022*\"battery\" + '\n",
    "  '0.016*\"mobile\" + 0.016*\"performance\" + 0.014*\"price\" + 0.014*\"display\" + '\n",
    "  '0.013*\"i\" + 0.013*\"evil\"'),\n",
    " (5,\n",
    "  '0.046*\"phone\" + 0.028*\"camera\" + 0.026*\"i\" + 0.022*\"bad\" + 0.019*\"evil\" + '\n",
    "  '0.014*\"performance\" + 0.013*\"price\" + 0.013*\"great\" + 0.012*\"display\" + '\n",
    "  '0.012*\"good\"'),\n",
    " (6,\n",
    "  '0.034*\"phone\" + 0.032*\"bad\" + 0.026*\"camera\" + 0.024*\"good\" + 0.021*\"face\" '\n",
    "  '+ 0.019*\"evil\" + 0.016*\"performance\" + 0.015*\"smile\" + 0.015*\"mobile\" + '\n",
    "  '0.013*\"battery\"'),\n",
    " (7,\n",
    "  '0.029*\"bad\" + 0.025*\"product\" + 0.022*\"phone\" + 0.018*\"battery\" + 0.017*\"i\" '\n",
    "  '+ 0.017*\"camera\" + 0.015*\"money\" + 0.013*\"good\" + 0.013*\"redmi\" + '\n",
    "  '0.010*\"note\"'),\n",
    " (8,\n",
    "  '0.063*\"good\" + 0.030*\"camera\" + 0.026*\"phone\" + 0.025*\"i\" + 0.021*\"battery\" '\n",
    "  '+ 0.015*\"evil\" + 0.015*\"performance\" + 0.012*\"display\" + 0.011*\"money\" + '\n",
    "  '0.011*\"product\"'),\n",
    " (9,\n",
    "  '0.044*\"i\" + 0.038*\"phone\" + 0.025*\"good\" + 0.021*\"camera\" + 0.018*\"product\" '\n",
    "  '+ 0.016*\"flipkart\" + 0.016*\"battery\" + 0.016*\"quality\" + 0.015*\"evil\" + '\n",
    "  '0.014*\"thank\"')]"
   ]
  },
  {
   "cell_type": "code",
   "execution_count": 53,
   "metadata": {},
   "outputs": [],
   "source": [
    "topics = [\n",
    "    '0.033*\"sản_phẩm\" + 0.029*\"che\" + 0.027*\"khuyết_điểm\" + 0.022*\"mắt\" + 0.020*\"bút\" + 0.016*\"maybelline\" + 0.013*\"thâm\" + 0.010*\"tự_tin\" + 0.010*\"phù_hợp\" + 0.010*\"che_phủ\"',\n",
    "    '0.026*\"kem\" + 0.022*\"sản_phẩm\" + 0.020*\"mắt\" + 0.020*\"che\" + 0.018*\"bút\" + 0.017*\"khuyết_điểm\" + 0.015*\"cushion\" + 0.015*\"thâm\" + 0.011*\"đầu\" + 0.011*\"da\"',\n",
    "    '0.025*\"che\" + 0.025*\"sản_phẩm\" + 0.025*\"sử_dụng\" + 0.021*\"mắt\" + 0.020*\"giới_thiệu\" + 0.018*\"kem\" + 0.018*\"bạn_bè\" + 0.018*\"khuyết_điểm\" + 0.016*\"thâm\" + 0.014*\"bút\"',\n",
    "    '0.038*\"che\" + 0.036*\"kem\" + 0.033*\"khuyết_điểm\" + 0.025*\"sản_phẩm\" + 0.024*\"mắt\" + 0.022*\"da\" + 0.016*\"thâm\" + 0.015*\"maybelline\" + 0.013*\"sử_dụng\" + 0.012*\"tán\"',\n",
    "    '0.045*\"mắt\" + 0.039*\"che\" + 0.030*\"khuyết_điểm\" + 0.024*\"thâm\" + 0.016*\"da\" + 0.015*\"sản_phẩm\" + 0.015*\"tán\" + 0.015*\"có_thể\" + 0.015*\"chị_em\" + 0.014*\"màu\"',\n",
    "    '0.027*\"che\" + 0.026*\"khuyết_điểm\" + 0.025*\"che_phủ\" + 0.025*\"kem\" + 0.021*\"mắt\" + 0.019*\"thâm\" + 0.012*\"da\" + 0.012*\"sản_phẩm\" + 0.011*\"quầng\" + 0.010*\"mịn\"',\n",
    "    '0.025*\"khuyết_điểm\" + 0.019*\"i\" + 0.015*\"che\" + 0.014*\"thâm\" + 0.014*\"t\" + 0.012*\"it\" + 0.011*\"tán\" + 0.008*\"mắt\" + 0.007*\"da\" + 0.007*\"hết_sức\"',\n",
    "    '0.045*\"che\" + 0.036*\"khuyết_điểm\" + 0.028*\"kem\" + 0.025*\"thâm\" + 0.021*\"da\" + 0.021*\"sản_phẩm\" + 0.018*\"mắt\" + 0.017*\"màu\" + 0.016*\"bút\" + 0.016*\"quầng\"',\n",
    "    '0.028*\"che\" + 0.024*\"kem\" + 0.022*\"khuyết_điểm\" + 0.018*\"bút\" + 0.017*\"da\" + 0.013*\"mắt\" + 0.012*\"sử_dụng\" + 0.012*\"maybelline\" + 0.011*\"sản_phẩm\" + 0.011*\"màu\"',\n",
    "    '0.024*\"che\" + 0.022*\"khuyết_điểm\" + 0.019*\"thâm\" + 0.016*\"da\" + 0.012*\"quầng\" + 0.012*\"mắt\" + 0.011*\"mua\" + 0.011*\"sử_dụng\" + 0.010*\"1\" + 0.010*\"kem\"'\n",
    "]"
   ]
  },
  {
   "cell_type": "code",
   "execution_count": 37,
   "metadata": {},
   "outputs": [
    {
     "name": "stdout",
     "output_type": "stream",
     "text": [
      "Counter({'\"phone\"': 10, '\"camera\"': 10, '\"i\"': 9, '\"good\"': 8, '\"battery\"': 8, '\"evil\"': 7, '\"price\"': 6, '\"bad\"': 6, '\"mobile\"': 5, '\"performance\"': 5, '\"product\"': 4, '\"redmi\"': 3, '\"money\"': 3, '\"display\"': 3, '\"great\"': 2, '\"awesome\"': 2, '\"flipkart\"': 2, '\"face\"': 2, '\"excellent\"': 1, '\"smile\"': 1, '\"note\"': 1, '\"quality\"': 1, '\"thank\"': 1})\n"
     ]
    }
   ],
   "source": [
    "from collections import Counter\n",
    "import re\n",
    "\n",
    "# Tách các từ khóa và đếm tần suất\n",
    "def extract_keywords(topics):\n",
    "    keywords = []\n",
    "    for topic in topics:\n",
    "        words = re.findall(r'\"\\w+\"', topic)  # Tìm tất cả các từ khóa được đặt trong dấu ngoặc kép\n",
    "        keywords.extend(words)\n",
    "    return Counter(keywords)\n",
    "\n",
    "# Tổng hợp từ khóa\n",
    "keywords = extract_keywords(list_topics)\n",
    "\n",
    "# Hiển thị từ khóa và tần suất\n",
    "print(keywords)"
   ]
  },
  {
   "cell_type": "code",
   "execution_count": 38,
   "metadata": {},
   "outputs": [
    {
     "name": "stdout",
     "output_type": "stream",
     "text": [
      "Top 10 từ khóa quan trọng:\n",
      "\"phone\": 10\n",
      "\"camera\": 10\n",
      "\"i\": 9\n",
      "\"good\": 8\n",
      "\"battery\": 8\n",
      "\"evil\": 7\n",
      "\"price\": 6\n",
      "\"bad\": 6\n",
      "\"mobile\": 5\n",
      "\"performance\": 5\n"
     ]
    }
   ],
   "source": [
    "# Sắp xếp từ khóa theo tần suất giảm dần\n",
    "sorted_keywords = keywords.most_common()\n",
    "\n",
    "# Hiển thị từ khóa quan trọng nhất\n",
    "print(\"Top 10 từ khóa quan trọng:\")\n",
    "for keyword, freq in sorted_keywords[:10]:\n",
    "    print(f\"{keyword}: {freq}\")"
   ]
  },
  {
   "cell_type": "code",
   "execution_count": 10,
   "metadata": {},
   "outputs": [],
   "source": [
    "def encode_sentiment(star_rating):\n",
    "    if star_rating >= 3.0:\n",
    "        return 'Positive'\n",
    "    else:\n",
    "        return 'Negative'\n",
    "\n",
    "df['Sentiment'] = df['Số sao đánh giá'].apply(encode_sentiment)"
   ]
  }
 ],
 "metadata": {
  "kernelspec": {
   "display_name": "Python 3",
   "language": "python",
   "name": "python3"
  },
  "language_info": {
   "codemirror_mode": {
    "name": "ipython",
    "version": 3
   },
   "file_extension": ".py",
   "mimetype": "text/x-python",
   "name": "python",
   "nbconvert_exporter": "python",
   "pygments_lexer": "ipython3",
   "version": "3.12.4"
  }
 },
 "nbformat": 4,
 "nbformat_minor": 2
}
